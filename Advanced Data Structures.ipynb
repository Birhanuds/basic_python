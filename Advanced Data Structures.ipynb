{
 "cells": [
  {
   "cell_type": "code",
   "execution_count": null,
   "metadata": {},
   "outputs": [
    {
     "name": "stdout",
     "output_type": "stream",
     "text": [
      "{'Alice': 90.0, 'Bob': 82.0, 'Charlie': 89.0}\n"
     ]
    }
   ],
   "source": [
    "#Squares =[x**2 for x in range(20) if x%2==0]\n",
    "#print(Squares)\n",
    "\n",
    "\n",
    "# transactions = [300, 700, 250, 500, 900]\n",
    "# filtered_transactions = [amount for amount in transactions if amount >= 700]\n",
    "\n",
    "# print(filtered_transactions)\n",
    "\n",
    "#customer_transactions = [\n",
    "# \"Alice\": [200, 300, 150],\n",
    "# \"Bob\": [400, 500, 100]\n",
    "# ]\n",
    "\n",
    "# lice_transactions = customer_transactions[\"Alice\"]\n",
    "# print('alice_transactions')\n",
    "\n",
    "\n",
    "# Dictionary to store student scores\n",
    "student_scores = {\n",
    "    \"Alice\": {\"math\": 95, \"science\": 90, \"history\": 85},\n",
    "    \"Bob\": {\"math\": 80, \"science\": 78, \"history\": 88},\n",
    "    \"Charlie\": {\"math\": 92, \"science\": 85, \"history\": 90}\n",
    "}\n",
    "\n",
    "# Function to calculate average scores for each student\n",
    "def calculate_average_scores(scores):\n",
    "    average_scores = {}\n",
    "    \n",
    "    for student, subjects in scores.items():\n",
    "        average = sum(subjects.values()) / len(subjects)\n",
    "        average_scores[student] = average\n",
    "    \n",
    "    return average_scores\n",
    "\n",
    "# Calculate and print average scores\n",
    "average_scores = calculate_average_scores(student_scores)\n",
    "print(average_scores)\n"
   ]
  }
 ],
 "metadata": {
  "kernelspec": {
   "display_name": "base",
   "language": "python",
   "name": "python3"
  },
  "language_info": {
   "codemirror_mode": {
    "name": "ipython",
    "version": 3
   },
   "file_extension": ".py",
   "mimetype": "text/x-python",
   "name": "python",
   "nbconvert_exporter": "python",
   "pygments_lexer": "ipython3",
   "version": "3.12.7"
  }
 },
 "nbformat": 4,
 "nbformat_minor": 2
}
